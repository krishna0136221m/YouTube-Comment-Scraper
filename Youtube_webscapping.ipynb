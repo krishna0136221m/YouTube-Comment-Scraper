{
 "cells": [
  {
   "cell_type": "code",
   "execution_count": 1,
   "id": "0205534e-4269-47ad-9575-5bbd868bf44f",
   "metadata": {},
   "outputs": [],
   "source": [
    "from selenium import webdriver\n",
    "from selenium.webdriver.common.by import By\n",
    "from selenium.webdriver.chrome.service import Service\n",
    "from webdriver_manager.chrome import ChromeDriverManager\n",
    "from selenium.webdriver.chrome.options import Options\n",
    "import pandas as pd\n",
    "import time"
   ]
  },
  {
   "cell_type": "code",
   "execution_count": 2,
   "id": "9c4898b4-90de-41de-aa92-3254bc2c6bbc",
   "metadata": {},
   "outputs": [],
   "source": [
    "def scrape_youtube_comments(video_title, max_comments):\n",
    "    # Set up Chrome browser options\n",
    "    chrome_options = Options()\n",
    "    chrome_options.add_argument(\"--start-maximized\")  # Open in full screen\n",
    "    # Don't run in headless mode so comments load properly\n",
    "\n",
    "    # Start the browser\n",
    "    driver = webdriver.Chrome(service=Service(ChromeDriverManager().install()), options=chrome_options)\n",
    "\n",
    "    try:\n",
    "        # Step 1: Search for the video on YouTube\n",
    "        print(f\"\\n Searching for: {video_title}\")\n",
    "        query = video_title.replace(\" \", \"+\")\n",
    "        search_url = f\"https://www.youtube.com/results?search_query={query}\"\n",
    "        driver.get(search_url)\n",
    "        time.sleep(3)\n",
    "\n",
    "        # Step 2: Click the first video result\n",
    "        first_result = driver.find_element(By.ID, \"video-title\")\n",
    "        video_link = first_result.get_attribute(\"href\")\n",
    "        print(f\" Opening video: {video_link}\")\n",
    "        driver.get(video_link)\n",
    "        time.sleep(5)\n",
    "\n",
    "        # Step 3: Scroll to load comments\n",
    "        print(\" Loading comments...\")\n",
    "        driver.execute_script(\"window.scrollTo(0, 600);\")\n",
    "        time.sleep(2)\n",
    "\n",
    "        # Scroll more to load additional comments\n",
    "        for _ in range(8):\n",
    "            driver.execute_script(\"window.scrollBy(0, 2000);\")\n",
    "            time.sleep(2)\n",
    "\n",
    "        # Step 4: Get the comments\n",
    "        comment_boxes = driver.find_elements(By.CSS_SELECTOR, \"#content-text\")\n",
    "        comments = []\n",
    "\n",
    "        for comment in comment_boxes:\n",
    "            text = comment.text.strip()\n",
    "            if text:\n",
    "                comments.append(text)\n",
    "            if len(comments) >= max_comments:\n",
    "                break\n",
    "\n",
    "        # Step 5: Save to CSV\n",
    "        if comments:\n",
    "            df = pd.DataFrame({\"Comment\": comments})\n",
    "            df.to_csv(\"youtube_comments.csv\", index=False)\n",
    "            print(f\" Saved {len(comments)} comments to 'youtube_comments.csv'\")\n",
    "        else:\n",
    "            print(\" No comments found.\")\n",
    "\n",
    "    except Exception as e:\n",
    "        print(f\" Error: {e}\")\n",
    "\n",
    "    finally:\n",
    "        driver.quit()\n"
   ]
  },
  {
   "cell_type": "code",
   "execution_count": 3,
   "id": "a01dc8a6-edd9-4a67-b7a6-3ee4af28c474",
   "metadata": {},
   "outputs": [
    {
     "name": "stdin",
     "output_type": "stream",
     "text": [
      " Enter YouTube video title:  hp victus laptop\n",
      "Max number of comments to scrape:  20\n"
     ]
    },
    {
     "name": "stdout",
     "output_type": "stream",
     "text": [
      "\n",
      " Searching for: hp victus laptop\n",
      " Opening video: https://www.youtube.com/watch?v=jtDNtjULnOI&pp=ygUQaHAgdmljdHVzIGxhcHRvcA%3D%3D\n",
      " Loading comments...\n",
      " Saved 20 comments to 'youtube_comments.csv'\n"
     ]
    }
   ],
   "source": [
    "# Run the script\n",
    "if __name__ == \"__main__\":\n",
    "    video_title = input(\" Enter YouTube video title: \")\n",
    "    max_comments = int(input(\"Max number of comments to scrape: \"))\n",
    "    scrape_youtube_comments(video_title, max_comments)\n"
   ]
  }
 ],
 "metadata": {
  "kernelspec": {
   "display_name": "Python 3 (ipykernel)",
   "language": "python",
   "name": "python3"
  },
  "language_info": {
   "codemirror_mode": {
    "name": "ipython",
    "version": 3
   },
   "file_extension": ".py",
   "mimetype": "text/x-python",
   "name": "python",
   "nbconvert_exporter": "python",
   "pygments_lexer": "ipython3",
   "version": "3.12.7"
  }
 },
 "nbformat": 4,
 "nbformat_minor": 5
}
